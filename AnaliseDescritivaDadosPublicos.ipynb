{
 "cells": [
  {
   "cell_type": "markdown",
   "id": "ac9ba8f7",
   "metadata": {},
   "source": [
    "# Análise Descritiva Dados Públicos"
   ]
  },
  {
   "cell_type": "markdown",
   "id": "76d23091",
   "metadata": {},
   "source": [
    "#### Importando bibliotecas"
   ]
  },
  {
   "cell_type": "code",
   "execution_count": 73,
   "id": "59a888f9",
   "metadata": {},
   "outputs": [],
   "source": [
    "# install.packages(\"dplyr\")\n",
    "# install.packages(\"ggplot2\")\n",
    "# install.packages(\"arrow\")"
   ]
  },
  {
   "cell_type": "code",
   "execution_count": null,
   "id": "4e7aff7e",
   "metadata": {},
   "outputs": [],
   "source": [
    "library(dplyr)\n",
    "library(ggplot2)\n",
    "library(arrow)"
   ]
  },
  {
   "cell_type": "markdown",
   "id": "d42c5dab",
   "metadata": {},
   "source": [
    "#### Lendo base de dados"
   ]
  },
  {
   "cell_type": "code",
   "execution_count": 75,
   "id": "75c8457f",
   "metadata": {},
   "outputs": [],
   "source": [
    "dataset <- read_parquet(\"DataSet/Despesasparlamentar/dataset_agrupado_2019_2021.parquet\")"
   ]
  },
  {
   "cell_type": "markdown",
   "id": "6f9a3f18",
   "metadata": {},
   "source": [
    "#### Transformando base de dados para análise"
   ]
  },
  {
   "cell_type": "code",
   "execution_count": 77,
   "id": "9a5d92de",
   "metadata": {},
   "outputs": [],
   "source": [
    "# Criamos uma cópia da base de dados\n",
    "base_copia <- dataset"
   ]
  },
  {
   "cell_type": "code",
   "execution_count": 78,
   "id": "d5b14927",
   "metadata": {},
   "outputs": [],
   "source": [
    "# Removemos as colunas que não serão utilizadas na análise\n",
    "base_copia$cpf <- NULL\n",
    "base_copia$numEspecificacaoSubCota <- NULL\n",
    "base_copia$txtCNPJCPF <- NULL\n",
    "base_copia$txtNumero <- NULL\n",
    "base_copia$numParcela <- NULL\n",
    "base_copia$ideDocumento <- NULL\n",
    "base_copia$urlDocumento <- NULL"
   ]
  },
  {
   "cell_type": "code",
   "execution_count": 79,
   "id": "6e7a2cfb",
   "metadata": {},
   "outputs": [
    {
     "data": {
      "text/html": [
       "<ol class=list-inline>\n",
       "\t<li>649804</li>\n",
       "\t<li>24</li>\n",
       "</ol>\n"
      ],
      "text/latex": [
       "\\begin{enumerate*}\n",
       "\\item 649804\n",
       "\\item 24\n",
       "\\end{enumerate*}\n"
      ],
      "text/markdown": [
       "1. 649804\n",
       "2. 24\n",
       "\n",
       "\n"
      ],
      "text/plain": [
       "[1] 649804     24"
      ]
     },
     "metadata": {},
     "output_type": "display_data"
    }
   ],
   "source": [
    "# Observações e Variáveis\n",
    "dim(base_copia)"
   ]
  },
  {
   "cell_type": "code",
   "execution_count": 80,
   "id": "fe2e2470",
   "metadata": {},
   "outputs": [
    {
     "name": "stdout",
     "output_type": "stream",
     "text": [
      "Rows: 649,804\n",
      "Columns: 24\n",
      "$ NomeParlamentar           <fct> LID.GOV-CD, LID.GOV-CD, LID.GOV-CD, LID.GOV-~\n",
      "$ ideCadastro               <int> NA, NA, NA, NA, NA, NA, NA, NA, NA, NA, NA, ~\n",
      "$ nuCarteiraParlamentar     <int> NA, NA, NA, NA, NA, NA, NA, NA, NA, NA, NA, ~\n",
      "$ nuLegislatura             <int> 2015, 2019, 2019, 2019, 2019, 2019, 2019, 20~\n",
      "$ sgUF                      <fct> NA, NA, NA, NA, NA, NA, NA, NA, NA, NA, NA, ~\n",
      "$ sgPartido                 <fct> , , , , , , , , , , , , , , , , , , , , , , ~\n",
      "$ codLegislatura            <int> 55, 56, 56, 56, 56, 56, 56, 56, 56, 56, 56, ~\n",
      "$ numSubCota                <int> 13, 13, 13, 13, 13, 13, 13, 13, 13, 13, 13, ~\n",
      "$ txtDescricao              <fct> \"FORNECIMENTO DE ALIMENTAÇÃO DO PARLAMENTAR\"~\n",
      "$ txtDescricaoEspecificacao <fct> , , , , , , , , , , , , , , , , , , , , , , ~\n",
      "$ txtFornecedor             <fct> \"CRISTIANE FERREIRA EPP\", \"CRISTIANE FERREIR~\n",
      "$ indTipoDocumento          <int> 4, 4, 4, 4, 4, 4, 0, 4, 4, 4, 4, 4, 4, 4, 4,~\n",
      "$ datEmissao                <fct> 2019-01-16T00:00:00, 2019-02-04T00:00:00, 20~\n",
      "$ vlrDocumento              <dbl> 9103, 10596, 11414, 19067, 11135, 19096, 506~\n",
      "$ vlrGlosa                  <dbl> 1, 1, 1, 1, 1, 1, 1, 1, 1, 1, 1, 1, 1, 1, 1,~\n",
      "$ vlrLiquido                <dbl> 11141, 12563, 13349, 20646, 13087, 20676, 51~\n",
      "$ numMes                    <int> 1, 2, 2, 3, 5, 6, 2, 10, 3, 4, 5, 6, 7, 8, 1~\n",
      "$ numAno                    <int> 2019, 2019, 2019, 2019, 2019, 2019, 2019, 20~\n",
      "$ txtPassageiro             <fct> , , , , , , , , , , , , , , , , , , , , , , ~\n",
      "$ txtTrecho                 <fct> , , , , , , , , , , , , , , , , , , , , , , ~\n",
      "$ numLote                   <int> 1554246, 1570078, 1570503, 1579375, 1590980,~\n",
      "$ numRessarcimento          <int> NA, NA, NA, NA, NA, NA, NA, NA, NA, NA, NA, ~\n",
      "$ vlrRestituicao            <fct> , , , , , , , , , , , , , , , , , , , , , , ~\n",
      "$ nuDeputadoId              <int> 2812, 2812, 2812, 2812, 2812, 2812, 2812, 28~\n"
     ]
    }
   ],
   "source": [
    "glimpse(base_copia)"
   ]
  },
  {
   "cell_type": "markdown",
   "id": "5c0d0781",
   "metadata": {},
   "source": [
    "### Estatistica Descritiva"
   ]
  },
  {
   "cell_type": "markdown",
   "id": "a9a866d2",
   "metadata": {},
   "source": [
    "##### Variáveis qualitativas: \n",
    "- NomeParlamentar\n",
    "- ideCadastro\n",
    "- nuCarteiraParlamentar\n",
    "- nuLegislatura\n",
    "- sgUF\n",
    "- sgPartido\n",
    "- codLegislatura\n",
    "- numSubCota\n",
    "- txtDescricao\n",
    "- txtDescricaoEspecificacao\n",
    "- txtFornecedor\n",
    "- indTipoDocumento\n",
    "- datEmissao\n",
    "- numMes\n",
    "- numAno\n",
    "- txtPassageiro\n",
    "- txtTrecho\n",
    "- numLote\n",
    "- numRessarcimento\n",
    "- vlrRestituicao\n",
    "- nuDeputadoId\n",
    "\n",
    "##### Variáveis quantitativas: \n",
    "- vlrDocumento\n",
    "- vlrGlosa\n",
    "- vlrLiquido"
   ]
  },
  {
   "cell_type": "code",
   "execution_count": 81,
   "id": "e4757c80",
   "metadata": {},
   "outputs": [
    {
     "data": {
      "text/html": [
       "<span style=white-space:pre-wrap>'Quantos nulos existem na variável sgUF  2145'</span>"
      ],
      "text/latex": [
       "'Quantos nulos existem na variável sgUF  2145'"
      ],
      "text/markdown": [
       "<span style=white-space:pre-wrap>'Quantos nulos existem na variável sgUF  2145'</span>"
      ],
      "text/plain": [
       "[1] \"Quantos nulos existem na variável sgUF  2145\""
      ]
     },
     "metadata": {},
     "output_type": "display_data"
    },
    {
     "data": {
      "text/html": [
       "<span style=white-space:pre-wrap>'Quantos nulos existem na variável numRessarcimento  434997'</span>"
      ],
      "text/latex": [
       "'Quantos nulos existem na variável numRessarcimento  434997'"
      ],
      "text/markdown": [
       "<span style=white-space:pre-wrap>'Quantos nulos existem na variável numRessarcimento  434997'</span>"
      ],
      "text/plain": [
       "[1] \"Quantos nulos existem na variável numRessarcimento  434997\""
      ]
     },
     "metadata": {},
     "output_type": "display_data"
    }
   ],
   "source": [
    "# Vamos identificar quais variáveis tem dados nulos, neste caso deixamos apenas as existentes\n",
    "paste(\"Quantos nulos existem na variável sgUF \",sum(is.na(base_copia$sgUF)))\n",
    "paste(\"Quantos nulos existem na variável numRessarcimento \",sum(is.na(base_copia$numRessarcimento)))\n",
    "\n",
    "#which(is.na(base_copia$sgUF))"
   ]
  },
  {
   "cell_type": "markdown",
   "id": "9f13fd06",
   "metadata": {},
   "source": [
    "Identificamos que existem 2145 registros sem um UF atribuído, neste caso são despesas a nível federal que não são atribuídos a nenhum UF, nestes casos ajustamos o UF com a nomenclatura DF para identifica-los."
   ]
  },
  {
   "cell_type": "code",
   "execution_count": 82,
   "id": "7f90f06b",
   "metadata": {},
   "outputs": [
    {
     "data": {
      "text/html": [
       "<span style=white-space:pre-wrap>'Quantos nulos existem na variável sgUF  0'</span>"
      ],
      "text/latex": [
       "'Quantos nulos existem na variável sgUF  0'"
      ],
      "text/markdown": [
       "<span style=white-space:pre-wrap>'Quantos nulos existem na variável sgUF  0'</span>"
      ],
      "text/plain": [
       "[1] \"Quantos nulos existem na variável sgUF  0\""
      ]
     },
     "metadata": {},
     "output_type": "display_data"
    }
   ],
   "source": [
    "# Ajustando os dados nulos para nomenclatura DF:\n",
    "base_copia$sgUF[which(is.na(base_copia$sgUF))] <- \"DF\"\n",
    "\n",
    "# Verificando novamente se existem dados nulos: \n",
    "paste(\"Quantos nulos existem na variável sgUF \",sum(is.na(base_copia$sgUF)))"
   ]
  },
  {
   "cell_type": "markdown",
   "id": "b70213fe",
   "metadata": {},
   "source": [
    "Identificamos que tem 434997 registros nulos para ressarcimento, neste caso vamos ajustar para valor 0 ao invés de nulo."
   ]
  },
  {
   "cell_type": "code",
   "execution_count": 83,
   "id": "6033d29c",
   "metadata": {},
   "outputs": [
    {
     "data": {
      "text/html": [
       "<span style=white-space:pre-wrap>'Quantos nulos existem na variável numRessarcimento  0'</span>"
      ],
      "text/latex": [
       "'Quantos nulos existem na variável numRessarcimento  0'"
      ],
      "text/markdown": [
       "<span style=white-space:pre-wrap>'Quantos nulos existem na variável numRessarcimento  0'</span>"
      ],
      "text/plain": [
       "[1] \"Quantos nulos existem na variável numRessarcimento  0\""
      ]
     },
     "metadata": {},
     "output_type": "display_data"
    }
   ],
   "source": [
    "# Ajustando dados nulos para 0:\n",
    "base_copia$numRessarcimento[which(is.na(base_copia$numRessarcimento))] <- 0\n",
    "\n",
    "# Verificando novamente se existem dados nulos:\n",
    "paste(\"Quantos nulos existem na variável numRessarcimento \",sum(is.na(base_copia$numRessarcimento)))"
   ]
  },
  {
   "cell_type": "markdown",
   "id": "1da667c0",
   "metadata": {},
   "source": [
    "#### Analisando as variáveis quantitativas da base"
   ]
  },
  {
   "cell_type": "code",
   "execution_count": 84,
   "id": "a87e9702",
   "metadata": {},
   "outputs": [
    {
     "data": {
      "image/png": "[encoded data removed]",
      "text/plain": [
       "plot without title"
      ]
     },
     "metadata": {},
     "output_type": "display_data"
    }
   ],
   "source": [
    "ggplot(base_copia, aes(y = vlrDocumento, x = sgUF)) +\n",
    "  geom_boxplot(outlier.color = \"blue\")"
   ]
  }
 ],
 "metadata": {
  "kernelspec": {
   "display_name": "R",
   "language": "R",
   "name": "ir"
  },
  "language_info": {
   "codemirror_mode": "r",
   "file_extension": ".r",
   "mimetype": "text/x-r-source",
   "name": "R",
   "pygments_lexer": "r",
   "version": "3.6.1"
  }
 },
 "nbformat": 4,
 "nbformat_minor": 5
}
