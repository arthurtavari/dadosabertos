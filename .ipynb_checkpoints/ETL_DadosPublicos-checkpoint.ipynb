{
 "cells": [
  {
   "cell_type": "markdown",
   "id": "077b1f61",
   "metadata": {},
   "source": [
    "# Processo de leitura da base de dados e pequenas transformações"
   ]
  },
  {
   "cell_type": "markdown",
   "id": "309bcda7",
   "metadata": {},
   "source": [
    "Base de dados disponível no site https://dadosabertos.camara.leg.br/swagger/api.html"
   ]
  },
  {
   "cell_type": "code",
   "execution_count": 43,
   "id": "f0e7700f",
   "metadata": {},
   "outputs": [],
   "source": [
    "# Necessário instalação dos pacotes dplyr e arrow\n",
    "# install.packages(\"dplyr\")\n",
    "# install.packages(\"arrow\")"
   ]
  },
  {
   "cell_type": "markdown",
   "id": "1e57a6ab",
   "metadata": {},
   "source": [
    "### Importando Bibliotecas"
   ]
  },
  {
   "cell_type": "code",
   "execution_count": 42,
   "id": "806c5186",
   "metadata": {},
   "outputs": [],
   "source": [
    "library(dplyr)\n",
    "library(arrow)"
   ]
  },
  {
   "cell_type": "markdown",
   "id": "754b0d54",
   "metadata": {},
   "source": [
    "### Lendo a base de dados"
   ]
  },
  {
   "cell_type": "code",
   "execution_count": 33,
   "id": "b30ecfb5",
   "metadata": {},
   "outputs": [],
   "source": [
    "dataset_2019 <- read_parquet(\"DataSet/Despesasparlamentar/dataset_2019.parquet\")\n",
    "dataset_2020 <- read_parquet(\"DataSet/Despesasparlamentar/dataset_2020.parquet\")\n",
    "dataset_2021 <- read_parquet(\"DataSet/Despesasparlamentar/dataset_2021.parquet\")"
   ]
  },
  {
   "cell_type": "code",
   "execution_count": 51,
   "id": "fca064da",
   "metadata": {},
   "outputs": [
    {
     "data": {
      "text/html": [
       "'2019 | Observações: 289396 Variáveis: 31'"
      ],
      "text/latex": [
       "'2019 \\textbar{} Observações: 289396 Variáveis: 31'"
      ],
      "text/markdown": [
       "'2019 | Observações: 289396 Variáveis: 31'"
      ],
      "text/plain": [
       "[1] \"2019 | Observações: 289396 Variáveis: 31\""
      ]
     },
     "metadata": {},
     "output_type": "display_data"
    },
    {
     "data": {
      "text/html": [
       "'2020 | Observações: 165147 Variáveis: 31'"
      ],
      "text/latex": [
       "'2020 \\textbar{} Observações: 165147 Variáveis: 31'"
      ],
      "text/markdown": [
       "'2020 | Observações: 165147 Variáveis: 31'"
      ],
      "text/plain": [
       "[1] \"2020 | Observações: 165147 Variáveis: 31\""
      ]
     },
     "metadata": {},
     "output_type": "display_data"
    },
    {
     "data": {
      "text/html": [
       "'2021 | Observações: 195261 Variáveis: 31'"
      ],
      "text/latex": [
       "'2021 \\textbar{} Observações: 195261 Variáveis: 31'"
      ],
      "text/markdown": [
       "'2021 | Observações: 195261 Variáveis: 31'"
      ],
      "text/plain": [
       "[1] \"2021 | Observações: 195261 Variáveis: 31\""
      ]
     },
     "metadata": {},
     "output_type": "display_data"
    }
   ],
   "source": [
    "paste(\"2019 |\", \"Observações:\", dim(dataset_2019)[1],   \"Variáveis:\", dim(dataset_2019)[2])\n",
    "paste(\"2020 |\", \"Observações:\", dim(dataset_2020)[1],   \"Variáveis:\", dim(dataset_2020)[2])\n",
    "paste(\"2021 |\", \"Observações:\", dim(dataset_2021)[1],   \"Variáveis:\", dim(dataset_2021)[2])"
   ]
  },
  {
   "cell_type": "markdown",
   "id": "e61a41d7",
   "metadata": {},
   "source": [
    "### Juntando a base de dados Despesa Parlamentar"
   ]
  },
  {
   "cell_type": "code",
   "execution_count": 52,
   "id": "905608f4",
   "metadata": {
    "scrolled": false
   },
   "outputs": [],
   "source": [
    "dataset <- bind_rows(dataset_2019,\n",
    "                     dataset_2020,\n",
    "                     dataset_2021, id=NULL)"
   ]
  },
  {
   "cell_type": "code",
   "execution_count": 53,
   "id": "bd358e0e",
   "metadata": {},
   "outputs": [
    {
     "name": "stdout",
     "output_type": "stream",
     "text": [
      "Rows: 649,804\n",
      "Columns: 31\n",
      "$ X.U.FEFF.txNomeParlamentar <fct> LID.GOV-CD, LID.GOV-CD, LID.GOV-CD, LID.GOV~\n",
      "$ cpf                        <dbl> NA, NA, NA, NA, NA, NA, NA, NA, NA, NA, NA,~\n",
      "$ ideCadastro                <int> NA, NA, NA, NA, NA, NA, NA, NA, NA, NA, NA,~\n",
      "$ nuCarteiraParlamentar      <int> NA, NA, NA, NA, NA, NA, NA, NA, NA, NA, NA,~\n",
      "$ nuLegislatura              <int> 2015, 2019, 2019, 2019, 2019, 2019, 2019, 2~\n",
      "$ sgUF                       <fct> NA, NA, NA, NA, NA, NA, NA, NA, NA, NA, NA,~\n",
      "$ sgPartido                  <fct> , , , , , , , , , , , , , , , , , , , , , ,~\n",
      "$ codLegislatura             <int> 55, 56, 56, 56, 56, 56, 56, 56, 56, 56, 56,~\n",
      "$ numSubCota                 <int> 13, 13, 13, 13, 13, 13, 13, 13, 13, 13, 13,~\n",
      "$ txtDescricao               <fct> \"FORNECIMENTO DE ALIMENTAÇÃO DO PARLAMENTAR~\n",
      "$ numEspecificacaoSubCota    <int> 0, 0, 0, 0, 0, 0, 0, 0, 0, 0, 0, 0, 0, 0, 0~\n",
      "$ txtDescricaoEspecificacao  <fct> , , , , , , , , , , , , , , , , , , , , , ,~\n",
      "$ txtFornecedor              <fct> \"CRISTIANE FERREIRA EPP\", \"CRISTIANE FERREI~\n",
      "$ txtCNPJCPF                 <fct> 037.139.030/0010-8, 037.139.030/0010-8, 037~\n",
      "$ txtNumero                  <fct> \"693\", \"716\", \"723\", \"753\", \"791\", \"849\", \"~\n",
      "$ indTipoDocumento           <int> 4, 4, 4, 4, 4, 4, 0, 4, 4, 4, 4, 4, 4, 4, 4~\n",
      "$ datEmissao                 <fct> 2019-01-16T00:00:00, 2019-02-04T00:00:00, 2~\n",
      "$ vlrDocumento               <fct> 111.3, 117.19, 120.15, 151.18, 119.9, 151.5~\n",
      "$ vlrGlosa                   <fct> 0, 0, 0, 0, 0, 0, 0, 0, 0, 0, 0, 0, 0, 0, 0~\n",
      "$ vlrLiquido                 <fct> 111.3, 117.19, 120.15, 151.18, 119.9, 151.5~\n",
      "$ numMes                     <int> 1, 2, 2, 3, 5, 6, 2, 10, 3, 4, 5, 6, 7, 8, ~\n",
      "$ numAno                     <int> 2019, 2019, 2019, 2019, 2019, 2019, 2019, 2~\n",
      "$ numParcela                 <int> 0, 0, 0, 0, 0, 0, 0, 0, 0, 0, 0, 0, 0, 0, 0~\n",
      "$ txtPassageiro              <fct> , , , , , , , , , , , , , , , , , , , , , ,~\n",
      "$ txtTrecho                  <fct> , , , , , , , , , , , , , , , , , , , , , ,~\n",
      "$ numLote                    <int> 1554246, 1570078, 1570503, 1579375, 1590980~\n",
      "$ numRessarcimento           <int> NA, NA, NA, NA, NA, NA, NA, NA, NA, NA, NA,~\n",
      "$ vlrRestituicao             <fct> , , , , , , , , , , , , , , , , , , , , , ,~\n",
      "$ nuDeputadoId               <int> 2812, 2812, 2812, 2812, 2812, 2812, 2812, 2~\n",
      "$ ideDocumento               <int> 6738121, 6769606, 6771099, 6793690, 6821674~\n",
      "$ urlDocumento               <fct> http://camara.leg.br/cota-parlamentar/nota-~\n"
     ]
    }
   ],
   "source": [
    "glimpse(dataset)"
   ]
  },
  {
   "cell_type": "markdown",
   "id": "7631c509",
   "metadata": {},
   "source": [
    "### Transformando os dados"
   ]
  },
  {
   "cell_type": "markdown",
   "id": "b4b59fd8",
   "metadata": {},
   "source": [
    "###### Ajustando o nome da variável"
   ]
  },
  {
   "cell_type": "code",
   "execution_count": 54,
   "id": "2d89af16",
   "metadata": {},
   "outputs": [],
   "source": [
    "dataset <- rename(dataset,NomeParlamentar=\"X.U.FEFF.txNomeParlamentar\")"
   ]
  },
  {
   "cell_type": "markdown",
   "id": "0e659184",
   "metadata": {},
   "source": [
    "###### Transformando character em numeric"
   ]
  },
  {
   "cell_type": "code",
   "execution_count": 55,
   "id": "a482c45f",
   "metadata": {},
   "outputs": [],
   "source": [
    "dataset$vlrLiquido <- as.numeric(dataset$vlrLiquido)\n",
    "dataset$vlrDocumento <- as.numeric(dataset$vlrDocumento)\n",
    "dataset$vlrGlosa<- as.numeric(dataset$vlrGlosa)"
   ]
  },
  {
   "cell_type": "markdown",
   "id": "2323e54c",
   "metadata": {},
   "source": [
    "### Salvando base de dados tratada"
   ]
  },
  {
   "cell_type": "code",
   "execution_count": 56,
   "id": "ed2c5633",
   "metadata": {},
   "outputs": [],
   "source": [
    "# Salvando base em CSV\n",
    "# write.csv(dataset, \"DataSet/Despesasparlamentar/dataset_2019_2021.csv\", row.names = FALSE, fileEncoding = \"UTF-8\")"
   ]
  },
  {
   "cell_type": "code",
   "execution_count": 58,
   "id": "034cb004",
   "metadata": {},
   "outputs": [],
   "source": [
    "# Salvando base em Parquet Opção para subir no Github\n",
    "write_parquet(dataset, \"DataSet/Despesasparlamentar/dataset_agrupado_2019_2021.parquet\")"
   ]
  }
 ],
 "metadata": {
  "kernelspec": {
   "display_name": "R",
   "language": "R",
   "name": "ir"
  },
  "language_info": {
   "codemirror_mode": "r",
   "file_extension": ".r",
   "mimetype": "text/x-r-source",
   "name": "R",
   "pygments_lexer": "r",
   "version": "3.6.1"
  }
 },
 "nbformat": 4,
 "nbformat_minor": 5
}
